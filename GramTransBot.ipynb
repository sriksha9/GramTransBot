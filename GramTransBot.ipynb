{
 "cells": [
  {
   "cell_type": "code",
   "execution_count": 1,
   "id": "44ccb87a-c977-4b7c-97b0-ba841830bbcf",
   "metadata": {},
   "outputs": [
    {
     "name": "stdout",
     "output_type": "stream",
     "text": [
      "Defaulting to user installation because normal site-packages is not writeable\n",
      "Requirement already satisfied: streamlit in c:\\programdata\\anaconda3\\lib\\site-packages (1.37.1)\n",
      "Requirement already satisfied: googletrans==4.0.0-rc1 in c:\\users\\sriks\\appdata\\roaming\\python\\python312\\site-packages (4.0.0rc1)\n",
      "Requirement already satisfied: language-tool-python in c:\\users\\sriks\\appdata\\roaming\\python\\python312\\site-packages (2.9.3)\n",
      "Requirement already satisfied: openai in c:\\users\\sriks\\appdata\\roaming\\python\\python312\\site-packages (0.28.1)\n",
      "Requirement already satisfied: httpx==0.13.3 in c:\\users\\sriks\\appdata\\roaming\\python\\python312\\site-packages (from googletrans==4.0.0-rc1) (0.13.3)\n",
      "Requirement already satisfied: certifi in c:\\programdata\\anaconda3\\lib\\site-packages (from httpx==0.13.3->googletrans==4.0.0-rc1) (2025.1.31)\n",
      "Requirement already satisfied: hstspreload in c:\\users\\sriks\\appdata\\roaming\\python\\python312\\site-packages (from httpx==0.13.3->googletrans==4.0.0-rc1) (2025.1.1)\n",
      "Requirement already satisfied: sniffio in c:\\programdata\\anaconda3\\lib\\site-packages (from httpx==0.13.3->googletrans==4.0.0-rc1) (1.3.0)\n",
      "Requirement already satisfied: chardet==3.* in c:\\users\\sriks\\appdata\\roaming\\python\\python312\\site-packages (from httpx==0.13.3->googletrans==4.0.0-rc1) (3.0.4)\n",
      "Requirement already satisfied: idna==2.* in c:\\users\\sriks\\appdata\\roaming\\python\\python312\\site-packages (from httpx==0.13.3->googletrans==4.0.0-rc1) (2.10)\n",
      "Requirement already satisfied: rfc3986<2,>=1.3 in c:\\users\\sriks\\appdata\\roaming\\python\\python312\\site-packages (from httpx==0.13.3->googletrans==4.0.0-rc1) (1.5.0)\n",
      "Requirement already satisfied: httpcore==0.9.* in c:\\users\\sriks\\appdata\\roaming\\python\\python312\\site-packages (from httpx==0.13.3->googletrans==4.0.0-rc1) (0.9.1)\n",
      "Requirement already satisfied: h11<0.10,>=0.8 in c:\\users\\sriks\\appdata\\roaming\\python\\python312\\site-packages (from httpcore==0.9.*->httpx==0.13.3->googletrans==4.0.0-rc1) (0.9.0)\n",
      "Requirement already satisfied: h2==3.* in c:\\users\\sriks\\appdata\\roaming\\python\\python312\\site-packages (from httpcore==0.9.*->httpx==0.13.3->googletrans==4.0.0-rc1) (3.2.0)\n",
      "Requirement already satisfied: hyperframe<6,>=5.2.0 in c:\\users\\sriks\\appdata\\roaming\\python\\python312\\site-packages (from h2==3.*->httpcore==0.9.*->httpx==0.13.3->googletrans==4.0.0-rc1) (5.2.0)\n",
      "Requirement already satisfied: hpack<4,>=3.0 in c:\\users\\sriks\\appdata\\roaming\\python\\python312\\site-packages (from h2==3.*->httpcore==0.9.*->httpx==0.13.3->googletrans==4.0.0-rc1) (3.0.0)\n",
      "Requirement already satisfied: altair<6,>=4.0 in c:\\programdata\\anaconda3\\lib\\site-packages (from streamlit) (5.0.1)\n",
      "Requirement already satisfied: blinker<2,>=1.0.0 in c:\\programdata\\anaconda3\\lib\\site-packages (from streamlit) (1.6.2)\n",
      "Requirement already satisfied: cachetools<6,>=4.0 in c:\\programdata\\anaconda3\\lib\\site-packages (from streamlit) (5.3.3)\n",
      "Requirement already satisfied: click<9,>=7.0 in c:\\programdata\\anaconda3\\lib\\site-packages (from streamlit) (8.1.7)\n",
      "Requirement already satisfied: numpy<3,>=1.20 in c:\\programdata\\anaconda3\\lib\\site-packages (from streamlit) (1.26.4)\n",
      "Requirement already satisfied: packaging<25,>=20 in c:\\programdata\\anaconda3\\lib\\site-packages (from streamlit) (24.1)\n",
      "Requirement already satisfied: pandas<3,>=1.3.0 in c:\\programdata\\anaconda3\\lib\\site-packages (from streamlit) (2.2.2)\n",
      "Requirement already satisfied: pillow<11,>=7.1.0 in c:\\programdata\\anaconda3\\lib\\site-packages (from streamlit) (10.4.0)\n",
      "Requirement already satisfied: protobuf<6,>=3.20 in c:\\programdata\\anaconda3\\lib\\site-packages (from streamlit) (4.25.3)\n",
      "Requirement already satisfied: pyarrow>=7.0 in c:\\programdata\\anaconda3\\lib\\site-packages (from streamlit) (16.1.0)\n",
      "Requirement already satisfied: requests<3,>=2.27 in c:\\programdata\\anaconda3\\lib\\site-packages (from streamlit) (2.32.3)\n",
      "Requirement already satisfied: rich<14,>=10.14.0 in c:\\programdata\\anaconda3\\lib\\site-packages (from streamlit) (13.7.1)\n",
      "Requirement already satisfied: tenacity<9,>=8.1.0 in c:\\programdata\\anaconda3\\lib\\site-packages (from streamlit) (8.2.3)\n",
      "Requirement already satisfied: toml<2,>=0.10.1 in c:\\programdata\\anaconda3\\lib\\site-packages (from streamlit) (0.10.2)\n",
      "Requirement already satisfied: typing-extensions<5,>=4.3.0 in c:\\programdata\\anaconda3\\lib\\site-packages (from streamlit) (4.11.0)\n",
      "Requirement already satisfied: gitpython!=3.1.19,<4,>=3.0.7 in c:\\programdata\\anaconda3\\lib\\site-packages (from streamlit) (3.1.43)\n",
      "Requirement already satisfied: pydeck<1,>=0.8.0b4 in c:\\programdata\\anaconda3\\lib\\site-packages (from streamlit) (0.8.0)\n",
      "Requirement already satisfied: tornado<7,>=6.0.3 in c:\\programdata\\anaconda3\\lib\\site-packages (from streamlit) (6.4.1)\n",
      "Requirement already satisfied: watchdog<5,>=2.1.5 in c:\\programdata\\anaconda3\\lib\\site-packages (from streamlit) (4.0.1)\n",
      "Requirement already satisfied: tqdm in c:\\programdata\\anaconda3\\lib\\site-packages (from language-tool-python) (4.66.5)\n",
      "Requirement already satisfied: psutil in c:\\programdata\\anaconda3\\lib\\site-packages (from language-tool-python) (5.9.0)\n",
      "Requirement already satisfied: aiohttp in c:\\programdata\\anaconda3\\lib\\site-packages (from openai) (3.10.5)\n",
      "Requirement already satisfied: jinja2 in c:\\programdata\\anaconda3\\lib\\site-packages (from altair<6,>=4.0->streamlit) (3.1.4)\n",
      "Requirement already satisfied: jsonschema>=3.0 in c:\\programdata\\anaconda3\\lib\\site-packages (from altair<6,>=4.0->streamlit) (4.23.0)\n",
      "Requirement already satisfied: toolz in c:\\programdata\\anaconda3\\lib\\site-packages (from altair<6,>=4.0->streamlit) (0.12.0)\n",
      "Requirement already satisfied: colorama in c:\\programdata\\anaconda3\\lib\\site-packages (from click<9,>=7.0->streamlit) (0.4.6)\n",
      "Requirement already satisfied: gitdb<5,>=4.0.1 in c:\\programdata\\anaconda3\\lib\\site-packages (from gitpython!=3.1.19,<4,>=3.0.7->streamlit) (4.0.7)\n",
      "Requirement already satisfied: python-dateutil>=2.8.2 in c:\\programdata\\anaconda3\\lib\\site-packages (from pandas<3,>=1.3.0->streamlit) (2.9.0.post0)\n",
      "Requirement already satisfied: pytz>=2020.1 in c:\\programdata\\anaconda3\\lib\\site-packages (from pandas<3,>=1.3.0->streamlit) (2024.1)\n",
      "Requirement already satisfied: tzdata>=2022.7 in c:\\programdata\\anaconda3\\lib\\site-packages (from pandas<3,>=1.3.0->streamlit) (2023.3)\n",
      "Requirement already satisfied: charset-normalizer<4,>=2 in c:\\programdata\\anaconda3\\lib\\site-packages (from requests<3,>=2.27->streamlit) (3.3.2)\n",
      "Requirement already satisfied: urllib3<3,>=1.21.1 in c:\\programdata\\anaconda3\\lib\\site-packages (from requests<3,>=2.27->streamlit) (2.2.3)\n",
      "Requirement already satisfied: markdown-it-py>=2.2.0 in c:\\programdata\\anaconda3\\lib\\site-packages (from rich<14,>=10.14.0->streamlit) (2.2.0)\n",
      "Requirement already satisfied: pygments<3.0.0,>=2.13.0 in c:\\programdata\\anaconda3\\lib\\site-packages (from rich<14,>=10.14.0->streamlit) (2.15.1)\n",
      "Requirement already satisfied: aiohappyeyeballs>=2.3.0 in c:\\programdata\\anaconda3\\lib\\site-packages (from aiohttp->openai) (2.4.0)\n",
      "Requirement already satisfied: aiosignal>=1.1.2 in c:\\programdata\\anaconda3\\lib\\site-packages (from aiohttp->openai) (1.2.0)\n",
      "Requirement already satisfied: attrs>=17.3.0 in c:\\programdata\\anaconda3\\lib\\site-packages (from aiohttp->openai) (23.1.0)\n",
      "Requirement already satisfied: frozenlist>=1.1.1 in c:\\programdata\\anaconda3\\lib\\site-packages (from aiohttp->openai) (1.4.0)\n",
      "Requirement already satisfied: multidict<7.0,>=4.5 in c:\\programdata\\anaconda3\\lib\\site-packages (from aiohttp->openai) (6.0.4)\n",
      "Requirement already satisfied: yarl<2.0,>=1.0 in c:\\programdata\\anaconda3\\lib\\site-packages (from aiohttp->openai) (1.11.0)\n",
      "Requirement already satisfied: smmap<5,>=3.0.1 in c:\\programdata\\anaconda3\\lib\\site-packages (from gitdb<5,>=4.0.1->gitpython!=3.1.19,<4,>=3.0.7->streamlit) (4.0.0)\n",
      "Requirement already satisfied: MarkupSafe>=2.0 in c:\\programdata\\anaconda3\\lib\\site-packages (from jinja2->altair<6,>=4.0->streamlit) (2.1.3)\n",
      "Requirement already satisfied: jsonschema-specifications>=2023.03.6 in c:\\programdata\\anaconda3\\lib\\site-packages (from jsonschema>=3.0->altair<6,>=4.0->streamlit) (2023.7.1)\n",
      "Requirement already satisfied: referencing>=0.28.4 in c:\\programdata\\anaconda3\\lib\\site-packages (from jsonschema>=3.0->altair<6,>=4.0->streamlit) (0.30.2)\n",
      "Requirement already satisfied: rpds-py>=0.7.1 in c:\\programdata\\anaconda3\\lib\\site-packages (from jsonschema>=3.0->altair<6,>=4.0->streamlit) (0.10.6)\n",
      "Requirement already satisfied: mdurl~=0.1 in c:\\programdata\\anaconda3\\lib\\site-packages (from markdown-it-py>=2.2.0->rich<14,>=10.14.0->streamlit) (0.1.0)\n",
      "Requirement already satisfied: six>=1.5 in c:\\programdata\\anaconda3\\lib\\site-packages (from python-dateutil>=2.8.2->pandas<3,>=1.3.0->streamlit) (1.16.0)\n"
     ]
    }
   ],
   "source": [
    "!pip install streamlit googletrans==4.0.0-rc1 language-tool-python openai\n"
   ]
  },
  {
   "cell_type": "code",
   "execution_count": 3,
   "id": "91bf651c-3657-473b-a69e-cf4b37efc10e",
   "metadata": {},
   "outputs": [],
   "source": [
    "\n",
    "from indic_transliteration.sanscript import transliterate\n",
    "\n"
   ]
  },
  {
   "cell_type": "code",
   "execution_count": 5,
   "id": "94a4a062-65e9-47cd-9d58-5594de5b8af5",
   "metadata": {},
   "outputs": [
    {
     "name": "stdout",
     "output_type": "stream",
     "text": [
      "Defaulting to user installation because normal site-packages is not writeable\n",
      "Requirement already satisfied: indic-transliteration in c:\\users\\sriks\\appdata\\roaming\\python\\python312\\site-packages (2.3.69)\n",
      "Requirement already satisfied: backports.functools-lru-cache in c:\\users\\sriks\\appdata\\roaming\\python\\python312\\site-packages (from indic-transliteration) (2.0.0)\n",
      "Requirement already satisfied: regex in c:\\programdata\\anaconda3\\lib\\site-packages (from indic-transliteration) (2024.9.11)\n",
      "Requirement already satisfied: typer in c:\\programdata\\anaconda3\\lib\\site-packages (from indic-transliteration) (0.9.0)\n",
      "Requirement already satisfied: toml in c:\\programdata\\anaconda3\\lib\\site-packages (from indic-transliteration) (0.10.2)\n",
      "Requirement already satisfied: roman in c:\\users\\sriks\\appdata\\roaming\\python\\python312\\site-packages (from indic-transliteration) (5.0)\n",
      "Requirement already satisfied: click<9.0.0,>=7.1.1 in c:\\programdata\\anaconda3\\lib\\site-packages (from typer->indic-transliteration) (8.1.7)\n",
      "Requirement already satisfied: typing-extensions>=3.7.4.3 in c:\\programdata\\anaconda3\\lib\\site-packages (from typer->indic-transliteration) (4.11.0)\n",
      "Requirement already satisfied: colorama in c:\\programdata\\anaconda3\\lib\\site-packages (from click<9.0.0,>=7.1.1->typer->indic-transliteration) (0.4.6)\n"
     ]
    }
   ],
   "source": [
    "!pip install indic-transliteration\n",
    "\n",
    "\n",
    "\n",
    "\n",
    "\n"
   ]
  },
  {
   "cell_type": "code",
   "execution_count": 21,
   "id": "621f7b98-8ea5-4ac1-af83-561e13c7f0a5",
   "metadata": {},
   "outputs": [],
   "source": [
    "\n",
    "from googletrans import Translator\n",
    "from indic_transliteration.sanscript import transliterate\n",
    "\n",
    "def translate_and_transliterate_to_telugu(text):\n",
    "    translator = Translator()\n",
    "\n",
    "    # Translate to Telugu\n",
    "    translated = translator.translate(text, dest='te')\n",
    "    translated_text = translated.text  # Telugu translation\n",
    "\n",
    "    # Convert Telugu text to Romanized English (Transliteration)\n",
    "    transliteration = transliterate(translated_text, 'telugu', 'iast')  # Use string for script names\n",
    "\n",
    "    return translated_text, transliteration\n",
    "\n"
   ]
  },
  {
   "cell_type": "code",
   "execution_count": 15,
   "id": "06f1af06-da07-4834-8813-27cb9576bfdd",
   "metadata": {},
   "outputs": [],
   "source": [
    "from googletrans import Translator\n",
    "from indic_transliteration.sanscript import transliterate, ITRANS\n",
    "\n",
    "def translate_and_transliterate_to_telugu(text):\n",
    "    translator = Translator()\n",
    "\n",
    "    # Translate to Telugu\n",
    "    translated = translator.translate(text, dest='te')\n",
    "    translated_text = translated.text  # Telugu translation\n",
    "\n",
    "    # Convert Telugu text to Romanized English (Transliteration)\n",
    "    transliteration = transliterate(translated_text, sanscript.TELUGU, ITRANS)\n",
    "\n",
    "    return translated_text, transliteration\n"
   ]
  },
  {
   "cell_type": "code",
   "execution_count": 23,
   "id": "3b0110a5-b495-4b08-acd0-d4a62e38d953",
   "metadata": {},
   "outputs": [
    {
     "name": "stdout",
     "output_type": "stream",
     "text": [
      "Translated Text in Telugu: హలో, మీరు ఎలా ఉన్నారు?\n",
      "Transliteration (in English): halo, mīru èlā unnāru?\n"
     ]
    }
   ],
   "source": [
    "text = \"Hello, how are you?\"\n",
    "translated_text, transliteration = translate_and_transliterate_to_telugu(text)\n",
    "\n",
    "print(f\"Translated Text in Telugu: {translated_text}\")\n",
    "print(f\"Transliteration (in English): {transliteration}\")\n",
    "\n",
    "# done with the Translation"
   ]
  },
  {
   "cell_type": "code",
   "execution_count": 67,
   "id": "c808be2d-3b3c-4c33-a75e-14e29247a799",
   "metadata": {},
   "outputs": [
    {
     "name": "stdout",
     "output_type": "stream",
     "text": [
      "Defaulting to user installation because normal site-packages is not writeable\n",
      "Requirement already satisfied: requests in c:\\programdata\\anaconda3\\lib\\site-packages (2.32.3)\n",
      "Requirement already satisfied: charset-normalizer<4,>=2 in c:\\programdata\\anaconda3\\lib\\site-packages (from requests) (3.3.2)\n",
      "Requirement already satisfied: idna<4,>=2.5 in c:\\users\\sriks\\appdata\\roaming\\python\\python312\\site-packages (from requests) (2.10)\n",
      "Requirement already satisfied: urllib3<3,>=1.21.1 in c:\\programdata\\anaconda3\\lib\\site-packages (from requests) (2.2.3)\n",
      "Requirement already satisfied: certifi>=2017.4.17 in c:\\programdata\\anaconda3\\lib\\site-packages (from requests) (2025.1.31)\n"
     ]
    }
   ],
   "source": [
    "!pip install requests\n",
    "\n",
    "\n"
   ]
  },
  {
   "cell_type": "code",
   "execution_count": 69,
   "id": "331d5d55-4a9c-47c5-b71b-1a648ce4f035",
   "metadata": {},
   "outputs": [],
   "source": [
    "import requests\n",
    "\n",
    "def correct_grammar_with_languagetool_api(text):\n",
    "    url = \"https://api.languagetool.org/v2/check\"\n",
    "    params = {\n",
    "        \"text\": text,\n",
    "        \"language\": \"en\",\n",
    "        \"enabledOnly\": \"false\"\n",
    "    }\n",
    "    \n",
    "    response = requests.post(url, data=params)\n",
    "    result = response.json()\n",
    "    \n",
    "    # Extract the corrected text\n",
    "    corrected_text = text\n",
    "    for match in result['matches']:\n",
    "        start = match['offset']\n",
    "        length = match['length']\n",
    "        replacement = match['replacements'][0]['value']\n",
    "        corrected_text = corrected_text[:start] + replacement + corrected_text[start+length:]\n",
    "    \n",
    "    return corrected_text\n",
    "\n",
    "    \n"
   ]
  },
  {
   "cell_type": "code",
   "execution_count": 71,
   "id": "263e543f-bf5f-499b-b9b9-9a1a47e099d3",
   "metadata": {},
   "outputs": [
    {
     "name": "stdout",
     "output_type": "stream",
     "text": [
      "Corrected Text: I am going to school.\n"
     ]
    }
   ],
   "source": [
    "\n",
    "# Test with sample text\n",
    "text_with_errors = \"I are going to school.\"\n",
    "corrected_text = correct_grammar_with_languagetool_api(text_with_errors)\n",
    "print(f\"Corrected Text: {corrected_text}\")\n"
   ]
  },
  {
   "cell_type": "code",
   "execution_count": 73,
   "id": "98582d48-e026-4342-9462-25fae19410e6",
   "metadata": {},
   "outputs": [],
   "source": [
    "# combining all features into one function\n",
    "import requests\n",
    "from googletrans import Translator\n",
    "from indic_transliteration.sanscript import transliterate\n",
    "\n",
    "# Function to translate and transliterate to Telugu\n",
    "def translate_and_transliterate_to_telugu(text):\n",
    "    translator = Translator()\n",
    "\n",
    "    # Translate to Telugu\n",
    "    translated = translator.translate(text, dest='te')\n",
    "    translated_text = translated.text  # Telugu translation\n",
    "\n",
    "    # Convert Telugu text to Romanized English (Transliteration)\n",
    "    transliteration = transliterate(translated_text, 'telugu', 'iast')\n",
    "\n",
    "    return translated_text, transliteration\n",
    "\n",
    "# Function to correct grammar using LanguageTool API\n",
    "def correct_grammar_with_languagetool_api(text):\n",
    "    url = \"https://api.languagetool.org/v2/check\"\n",
    "    params = {\n",
    "        \"text\": text,\n",
    "        \"language\": \"en\",\n",
    "        \"enabledOnly\": \"false\"\n",
    "    }\n",
    "    \n",
    "    response = requests.post(url, data=params)\n",
    "    result = response.json()\n",
    "    \n",
    "    # Extract the corrected text\n",
    "    corrected_text = text\n",
    "    for match in result['matches']:\n",
    "        start = match['offset']\n",
    "        length = match['length']\n",
    "        replacement = match['replacements'][0]['value']\n",
    "        corrected_text = corrected_text[:start] + replacement + corrected_text[start+length:]\n",
    "    \n",
    "    return corrected_text\n",
    "\n",
    "# Full function to process text\n",
    "def process_text(text):\n",
    "    # Translate and Transliterate\n",
    "    translated_text, transliteration = translate_and_transliterate_to_telugu(text)\n",
    "    \n",
    "    # Grammar correction\n",
    "    corrected_text = correct_grammar_with_languagetool_api(text)\n",
    "    \n",
    "    return translated_text, transliteration, corrected_text\n"
   ]
  },
  {
   "cell_type": "code",
   "execution_count": null,
   "id": "c821fe9f-749a-4ab5-a87a-866420c9dda2",
   "metadata": {},
   "outputs": [],
   "source": []
  }
 ],
 "metadata": {
  "kernelspec": {
   "display_name": "Python [conda env:base] *",
   "language": "python",
   "name": "conda-base-py"
  },
  "language_info": {
   "codemirror_mode": {
    "name": "ipython",
    "version": 3
   },
   "file_extension": ".py",
   "mimetype": "text/x-python",
   "name": "python",
   "nbconvert_exporter": "python",
   "pygments_lexer": "ipython3",
   "version": "3.12.7"
  }
 },
 "nbformat": 4,
 "nbformat_minor": 5
}
